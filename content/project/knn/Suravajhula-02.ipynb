{
 "cells": [
  {
   "cell_type": "markdown",
   "metadata": {},
   "source": [
    "## a.Divide the dataset as train,development and test"
   ]
  },
  {
   "cell_type": "code",
   "execution_count": 1,
   "metadata": {},
   "outputs": [
    {
     "name": "stdout",
     "output_type": "stream",
     "text": [
      "[125 130  36 122  57 105  64  89 128 142  65  67 110  42  22 148 102 106\n",
      " 149  24 103 116  31 117  49  32  51  12 119  87 107  63 126 124 118  48\n",
      " 120 136 108 100  11 138 113  95  37  20 123 137  17 109  18  59 101  98\n",
      " 115 144  56  34   5   9 143  45  52   8  44 129  92  25 112 145  28  29\n",
      "  16  66  19  73  38  97 132  84   0  90  69  50  83  23  33 135   3  99]\n",
      "[ 10  94  81 131 146   7 133  71   1  13 139 104 134 114  27  68  86 147\n",
      "  55  60  80 141  82  79  78  93   4  88  46  91]\n",
      "[ 58 111  96 127   6  30 121  77  35  26  74  41  43  72  15  14  76  75\n",
      "  62  39  54  85  70  61  21   2  47  40  53 140]\n"
     ]
    }
   ],
   "source": [
    "import matplotlib.pyplot as plt\n",
    "import numpy as np\n",
    "import pandas as pd\n",
    "from collections import Counter\n",
    "np.random.seed(10000)\n",
    "\n",
    "data=np.genfromtxt('iris.csv',dtype=str,delimiter=',')\n",
    "total_index=np.arange(0,data.shape[0])\n",
    "np.random.shuffle(total_index)\n",
    "\n",
    "train_index=total_index[:int(0.6*data.shape[0])]\n",
    "train_data=np.asarray(data[train_index][:,:-1],dtype=np.float)\n",
    "train_names=data[train_index][:,-1]\n",
    "\n",
    "\n",
    "development_index=total_index[int(0.6*data.shape[0]):int(0.8*data.shape[0])]\n",
    "development_data=np.asarray(data[development_index][:,:-1],dtype=np.float)\n",
    "development_names=data[development_index][:,-1]\n",
    "\n",
    "test_index=total_index[int(0.8*data.shape[0]):]\n",
    "test_data=np.asarray(data[test_index][:,:-1],dtype=np.float)\n",
    "test_names=data[test_index][:,-1]\n",
    "\n",
    "print(train_index)\n",
    "print(development_index)\n",
    "print(test_index)\n",
    "\n",
    "#print(dev_data)\n",
    "#print(dev_names)\n",
    "#print(test_data)\n",
    "#print(test_names)\n",
    "#print(dev_data.shape)\n"
   ]
  },
  {
   "cell_type": "markdown",
   "metadata": {},
   "source": [
    "## b.implementing knn using distance metric Euclidean distance"
   ]
  },
  {
   "cell_type": "code",
   "execution_count": 2,
   "metadata": {},
   "outputs": [],
   "source": [
    "def euclidean_distance(test_row,train_data):\n",
    "    \n",
    "    return np.sqrt(np.sum((train_data-test_row)**2,axis=1))\n",
    "\n",
    "def knn(test_row,train_data,metric,k):\n",
    "    dist=metric(test_row,train_data)\n",
    "    require_index=dist.argsort()[:k]\n",
    "    \n",
    "    required_names=train_names[require_index]\n",
    "    cnt=Counter(required_names)\n",
    "    result=cnt.most_common()[0][0]\n",
    "    \n",
    "    return result \n",
    "\n",
    "\n",
    "#class_label=knn(dev_data[0],train_data,euclidean_distance,65)\n",
    "#print(class_label)\n",
    "    "
   ]
  },
  {
   "cell_type": "markdown",
   "metadata": {},
   "source": [
    "## b.implementing knn using distance metric Normalized Euclidean distance"
   ]
  },
  {
   "cell_type": "code",
   "execution_count": 3,
   "metadata": {},
   "outputs": [],
   "source": [
    "def normalized_euclidean_distance(test_row,train_data):\n",
    "    \n",
    "    norm_train_data=(train_data-train_data.mean(axis=0))/train_data.std(axis=0)\n",
    "    norm_test_row=(test_row-train_data.mean(axis=0))/train_data.std(axis=0)\n",
    "    return np.sqrt(np.sum((norm_train_data-norm_test_row)**2,axis=1))\n",
    "\n",
    "#class_label=knn(development_data[0],train_data,normalized_euclidean_distance,65)\n",
    "#print(class_label)\n",
    "    "
   ]
  },
  {
   "cell_type": "markdown",
   "metadata": {},
   "source": [
    "## b.implimenting knn using distance metric Cosine Similarity"
   ]
  },
  {
   "cell_type": "code",
   "execution_count": 4,
   "metadata": {},
   "outputs": [],
   "source": [
    "def cosine_similarity(test_row,train_data):\n",
    "    dist=[]\n",
    "    for rec in train_data:\n",
    "        dot_product=np.dot(test_row,rec)\n",
    "        mod_product=np.linalg.norm(test_row)*np.linalg.norm(rec)\n",
    "        dist.append(1-(dot_product/mod_product))\n",
    "    return np.array(dist)\n",
    "#class_label=knn(development_data[0],train_data,cosine_similarity,65)\n",
    "#print(class_label)"
   ]
  },
  {
   "cell_type": "markdown",
   "metadata": {},
   "source": [
    "## c.calculating accuracy using Train and Development dataset , finding optimal hyper parameters and drawing bar charts for accuracy"
   ]
  },
  {
   "cell_type": "code",
   "execution_count": 5,
   "metadata": {
    "scrolled": false
   },
   "outputs": [
    {
     "name": "stdout",
     "output_type": "stream",
     "text": [
      "                 k=1       k=3       k=5       k=7\n",
      "eucli       0.966667  1.000000  0.966667  1.000000\n",
      "norm_eucli  0.900000  0.933333  0.966667  0.966667\n",
      "cosine      0.966667  0.933333  0.966667  0.933333\n"
     ]
    },
    {
     "data": {
      "text/plain": [
       "<matplotlib.legend.Legend at 0x25e95ffa148>"
      ]
     },
     "execution_count": 5,
     "metadata": {},
     "output_type": "execute_result"
    },
    {
     "data": {
      "image/png": "[encoded data removed]",
      "text/plain": [
       "<Figure size 432x288 with 1 Axes>"
      ]
     },
     "metadata": {
      "needs_background": "light"
     },
     "output_type": "display_data"
    }
   ],
   "source": [
    "def accuracy(verify_names,verify_data,train_data,metric,k):\n",
    "    accurate=0\n",
    "    for i,verify_row in enumerate(verify_data):\n",
    "        class_label= knn(verify_row,train_data,metric,k)\n",
    "        #print(class_label,verify_names[i])\n",
    "        if(verify_names[i]==class_label):\n",
    "            accurate+=1\n",
    "    return accurate/verify_data.shape[0]\n",
    "\n",
    "euclidean_accuracy=[]\n",
    "normalized_euclidean_accuracy=[]\n",
    "cosine_accuracy=[]\n",
    "required_k= np.array([1,3,5,7])\n",
    "for k in required_k:\n",
    "    \n",
    "    euclidean_accuracy.append(accuracy(development_names,development_data,train_data,euclidean_distance,k))\n",
    "    normalized_euclidean_accuracy.append(accuracy(development_names,development_data,train_data,normalized_euclidean_distance,k))\n",
    "    cosine_accuracy.append(accuracy(development_names,development_data,train_data,cosine_similarity,k))                                  \n",
    "\n",
    "k=np.vstack((euclidean_accuracy,normalized_euclidean_accuracy,cosine_accuracy))\n",
    "pd_test=pd.DataFrame(k,columns=['k=1','k=3','k=5','k=7'])\n",
    "pd_test.index=['eucli','norm_eucli','cosine']\n",
    "print(pd_test)\n",
    "\n",
    "ax = plt.subplot(111)\n",
    "ax.bar(required_k-0.5,euclidean_accuracy, width=0.5, color='b', align='center',label='euclidean')\n",
    "ax.bar(required_k,normalized_euclidean_accuracy, width=0.5, color='g', align='center',label='norm_euclidean')\n",
    "ax.bar(required_k+0.5,cosine_accuracy, width=0.5, color='r', align='center',label='cosine')\n",
    "\n",
    "min_value=min((euclidean_accuracy+normalized_euclidean_accuracy+cosine_accuracy))\n",
    "max_value=max((euclidean_accuracy+normalized_euclidean_accuracy+cosine_accuracy))\n",
    "ax.set_xticks(required_k)\n",
    "ax.set_ylim(min_value-0.02,max_value+0.01)\n",
    "ax.legend()"
   ]
  },
  {
   "cell_type": "markdown",
   "metadata": {},
   "source": [
    "From my observations at k=5 and k=7 we are getting consistent accuracy.i am choosing k=7 as it is optimal and consistent."
   ]
  },
  {
   "cell_type": "markdown",
   "metadata": {},
   "source": [
    "## d. with test datset finding final accuracy by using optimal hyper parameter"
   ]
  },
  {
   "cell_type": "code",
   "execution_count": 6,
   "metadata": {},
   "outputs": [
    {
     "name": "stdout",
     "output_type": "stream",
     "text": [
      "                 k=7\n",
      "eucli       0.933333\n",
      "norm_eucli  0.866667\n",
      "cosine      0.933333\n"
     ]
    },
    {
     "data": {
      "image/png": "[encoded data removed]",
      "text/plain": [
       "<Figure size 432x288 with 1 Axes>"
      ]
     },
     "metadata": {
      "needs_background": "light"
     },
     "output_type": "display_data"
    }
   ],
   "source": [
    "eucli_test_accuracy=accuracy(test_names,test_data,train_data,euclidean_distance,7)\n",
    "\n",
    "norm_eucli_test_accuracy=accuracy(test_names,test_data,train_data,normalized_euclidean_distance,7)\n",
    "\n",
    "cosine_test_accuracy=accuracy(test_names,test_data,train_data,cosine_similarity,7)\n",
    "plt.bar(['eucli','norm_eucli','cosine'],[eucli_test_accuracy,norm_eucli_test_accuracy,cosine_test_accuracy],width=0.5)\n",
    "min_value=min(eucli_test_accuracy,norm_eucli_test_accuracy,cosine_test_accuracy)\n",
    "max_value=max(eucli_test_accuracy,norm_eucli_test_accuracy,cosine_test_accuracy)\n",
    "plt.ylim(min_value-0.1,max_value+0.01)\n",
    "\n",
    "\n",
    "\n",
    "k=np.vstack((eucli_test_accuracy,norm_eucli_test_accuracy,cosine_test_accuracy))\n",
    "pd_test=pd.DataFrame(k,columns=['k=7'])\n",
    "pd_test.index=['eucli','norm_eucli','cosine']\n",
    "print(pd_test)\n",
    "\n"
   ]
  },
  {
   "cell_type": "code",
   "execution_count": null,
   "metadata": {},
   "outputs": [],
   "source": []
  },
  {
   "cell_type": "markdown",
   "metadata": {},
   "source": [
    "From my results above, the euclidean distance or cosine similarity with k=7 gives the best optimal accuracy(93%)."
   ]
  },
  {
   "cell_type": "code",
   "execution_count": null,
   "metadata": {},
   "outputs": [],
   "source": []
  },
  {
   "cell_type": "code",
   "execution_count": null,
   "metadata": {},
   "outputs": [],
   "source": []
  }
 ],
 "metadata": {
  "kernelspec": {
   "display_name": "Python 3",
   "language": "python",
   "name": "python3"
  },
  "language_info": {
   "codemirror_mode": {
    "name": "ipython",
    "version": 3
   },
   "file_extension": ".py",
   "mimetype": "text/x-python",
   "name": "python",
   "nbconvert_exporter": "python",
   "pygments_lexer": "ipython3",
   "version": "3.7.6"
  }
 },
 "nbformat": 4,
 "nbformat_minor": 4
}
